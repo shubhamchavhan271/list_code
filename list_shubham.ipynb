{
 "cells": [
  {
   "cell_type": "raw",
   "id": "939fab13",
   "metadata": {},
   "source": [
    " shubham chavhan "
   ]
  },
  {
   "cell_type": "markdown",
   "id": "7f8e6985",
   "metadata": {},
   "source": [
    "# List Method\n",
    "\n",
    "-append() -clear() -copy() -count() -extend() -index() -insert() -pop() -remove() -reverse() =-sort()"
   ]
  },
  {
   "cell_type": "code",
   "execution_count": 1,
   "id": "87d178a2",
   "metadata": {},
   "outputs": [],
   "source": [
    "a= [5,6,7,8,9,1,2,3,4]\n",
    "b=[1,5,6,7,8,9,6,3]\n"
   ]
  },
  {
   "cell_type": "raw",
   "id": "58aeeb44",
   "metadata": {},
   "source": [
    "#append()\n",
    "Append object to the end of the "
   ]
  },
  {
   "cell_type": "code",
   "execution_count": 2,
   "id": "07f17642",
   "metadata": {},
   "outputs": [
    {
     "data": {
      "text/plain": [
       "[5, 6, 7, 8, 9, 1, 2, 3, 4, [1, 5, 6, 7, 8, 9, 6, 3]]"
      ]
     },
     "execution_count": 2,
     "metadata": {},
     "output_type": "execute_result"
    }
   ],
   "source": [
    "a.append(b)   \n",
    "a"
   ]
  },
  {
   "cell_type": "code",
   "execution_count": 3,
   "id": "939788e5",
   "metadata": {},
   "outputs": [
    {
     "name": "stdout",
     "output_type": "stream",
     "text": [
      "[5, 6, 7, 8, 9, 1, 2, 3, 4, [1, 5, 6, 7, 8, 9, 6, 3], [1, 5, 6, 7, 8, 9, 6, 3]]\n"
     ]
    }
   ],
   "source": [
    "try:\n",
    "    a.append(b)\n",
    "    print(a)\n",
    "except Exception as e:\n",
    "    print(e)"
   ]
  },
  {
   "cell_type": "code",
   "execution_count": 4,
   "id": "7ece5c50",
   "metadata": {},
   "outputs": [
    {
     "name": "stdout",
     "output_type": "stream",
     "text": [
      "[5, 6, 7, 8, 9, 1, 2, 3, 4, [1, 5, 6, 7, 8, 9, 6, 3], [1, 5, 6, 7, 8, 9, 6, 3], [1, 5, 6, 7, 8, 9, 6, 3]]\n"
     ]
    }
   ],
   "source": [
    "def append(name):\n",
    "    \"Append object to the end of the \"\n",
    "    try:\n",
    "        a.append(b)\n",
    "        print(a)\n",
    "    except Exception as e:\n",
    "        print(e)\n",
    "append(a)"
   ]
  },
  {
   "cell_type": "code",
   "execution_count": 5,
   "id": "20cb6877",
   "metadata": {},
   "outputs": [
    {
     "name": "stdout",
     "output_type": "stream",
     "text": [
      "[5, 6, 7, 8, 9, 1, 2, 3, 4, [1, 5, 6, 7, 8, 9, 6, 3], [1, 5, 6, 7, 8, 9, 6, 3], [1, 5, 6, 7, 8, 9, 6, 3], [1, 5, 6, 7, 8, 9, 6, 3]]\n"
     ]
    }
   ],
   "source": [
    "try:\n",
    "    def append(name):\n",
    "        try:\n",
    "            a.append(b)\n",
    "            print(a)\n",
    "        except Exception as e:\n",
    "            print(e)\n",
    "    append(a)           \n",
    "except Exception as e:\n",
    "    print(e)"
   ]
  },
  {
   "cell_type": "raw",
   "id": "5fd07943",
   "metadata": {},
   "source": []
  },
  {
   "cell_type": "raw",
   "id": "e97412c7",
   "metadata": {},
   "source": [
    "#clear()\n",
    "Clear the terminal"
   ]
  },
  {
   "cell_type": "code",
   "execution_count": 6,
   "id": "89b7fa6e",
   "metadata": {},
   "outputs": [],
   "source": [
    "s =[1,2,5,7,8]"
   ]
  },
  {
   "cell_type": "code",
   "execution_count": 7,
   "id": "9b1a8321",
   "metadata": {},
   "outputs": [],
   "source": [
    "s.clear()"
   ]
  },
  {
   "cell_type": "code",
   "execution_count": 8,
   "id": "de87bc04",
   "metadata": {},
   "outputs": [
    {
     "name": "stdout",
     "output_type": "stream",
     "text": [
      "None\n"
     ]
    }
   ],
   "source": [
    "try:\n",
    "    def clear(name):\n",
    "        \"Clear the terminal\"\n",
    "        try:\n",
    "            print(s.clear())\n",
    "        except Exception as e:\n",
    "            print(e)\n",
    "    clear(s)\n",
    "except Exception as e:\n",
    "    print(e)"
   ]
  },
  {
   "cell_type": "code",
   "execution_count": 9,
   "id": "25e262a1",
   "metadata": {},
   "outputs": [
    {
     "data": {
      "text/plain": [
       "[]"
      ]
     },
     "execution_count": 9,
     "metadata": {},
     "output_type": "execute_result"
    }
   ],
   "source": [
    "s"
   ]
  },
  {
   "cell_type": "raw",
   "id": "236d66ed",
   "metadata": {},
   "source": []
  },
  {
   "cell_type": "raw",
   "id": "7698ea78",
   "metadata": {},
   "source": [
    "#copy()\n",
    "Returns a copy of the list"
   ]
  },
  {
   "cell_type": "code",
   "execution_count": 10,
   "id": "8ec1ea56",
   "metadata": {},
   "outputs": [
    {
     "name": "stdout",
     "output_type": "stream",
     "text": [
      "['shubhamchavhan']\n"
     ]
    }
   ],
   "source": [
    "d=[\"shubhamchavhan\"]\n",
    "e= d.copy()\n",
    "print(e)"
   ]
  },
  {
   "cell_type": "code",
   "execution_count": 11,
   "id": "6c51ac83",
   "metadata": {},
   "outputs": [
    {
     "name": "stdout",
     "output_type": "stream",
     "text": [
      "['shubhamchavhan']\n"
     ]
    }
   ],
   "source": [
    "try:\n",
    "    e= d.copy()\n",
    "    print(e)\n",
    "except Exception as e:\n",
    "    print(e)"
   ]
  },
  {
   "cell_type": "code",
   "execution_count": 12,
   "id": "2729bd68",
   "metadata": {},
   "outputs": [
    {
     "name": "stdout",
     "output_type": "stream",
     "text": [
      "['shubhamchavhan']\n"
     ]
    }
   ],
   "source": [
    "def copy(name):\n",
    "    \"Returns a copy of the list\"\n",
    "    try:\n",
    "        e= d.copy()\n",
    "        print(e)\n",
    "    except Exception as e:\n",
    "        print(e)\n",
    "copy(e)"
   ]
  },
  {
   "cell_type": "code",
   "execution_count": 13,
   "id": "4acec0a0",
   "metadata": {},
   "outputs": [
    {
     "name": "stdout",
     "output_type": "stream",
     "text": [
      "name 'eh' is not defined\n"
     ]
    }
   ],
   "source": [
    "try:\n",
    "    def copy(name):\n",
    "        try:\n",
    "            e= d.copy()\n",
    "            print(e)\n",
    "        except Exception as e:\n",
    "            print(e)\n",
    "    copy(eh)\n",
    "except Exception as e:\n",
    "    print(e)"
   ]
  },
  {
   "cell_type": "raw",
   "id": "abb56dba",
   "metadata": {},
   "source": []
  },
  {
   "cell_type": "raw",
   "id": "e4b375d7",
   "metadata": {},
   "source": [
    "#count()\n",
    "Return number of occurrences of value"
   ]
  },
  {
   "cell_type": "code",
   "execution_count": 14,
   "id": "b0baafa4",
   "metadata": {},
   "outputs": [],
   "source": [
    "z=[1,2,3,4,4,4,5,6,78]"
   ]
  },
  {
   "cell_type": "code",
   "execution_count": 15,
   "id": "eb9b1974",
   "metadata": {},
   "outputs": [
    {
     "data": {
      "text/plain": [
       "3"
      ]
     },
     "execution_count": 15,
     "metadata": {},
     "output_type": "execute_result"
    }
   ],
   "source": [
    "z.count(4)"
   ]
  },
  {
   "cell_type": "code",
   "execution_count": 16,
   "id": "7347f6b6",
   "metadata": {},
   "outputs": [
    {
     "name": "stdout",
     "output_type": "stream",
     "text": [
      "3\n"
     ]
    }
   ],
   "source": [
    "try:\n",
    "    print(z.count(4))\n",
    "except Exception as e:\n",
    "    print(e)"
   ]
  },
  {
   "cell_type": "code",
   "execution_count": 17,
   "id": "8e6d2504",
   "metadata": {},
   "outputs": [
    {
     "name": "stdout",
     "output_type": "stream",
     "text": [
      "3\n"
     ]
    }
   ],
   "source": [
    "def count(name):\n",
    "    \"Return number of occurrences of value\"\n",
    "    try:\n",
    "        print(z.count(4))\n",
    "    except Exception as e:\n",
    "            print(e)\n",
    "count(z)"
   ]
  },
  {
   "cell_type": "code",
   "execution_count": 18,
   "id": "b37445a7",
   "metadata": {},
   "outputs": [
    {
     "name": "stdout",
     "output_type": "stream",
     "text": [
      "3\n"
     ]
    }
   ],
   "source": [
    "try:\n",
    "    def count(name):\n",
    "        try:\n",
    "            print(z.count(4))\n",
    "        except Exception as e:\n",
    "            print(e)\n",
    "    count(z)\n",
    "except Exception as e:\n",
    "    print(e)"
   ]
  },
  {
   "cell_type": "raw",
   "id": "d2ac6568",
   "metadata": {},
   "source": [
    " "
   ]
  },
  {
   "cell_type": "raw",
   "id": "926b5091",
   "metadata": {},
   "source": [
    "#extend()\n",
    "Add the elements of a list to the end of the current list"
   ]
  },
  {
   "cell_type": "code",
   "execution_count": 19,
   "id": "ecef1f34",
   "metadata": {},
   "outputs": [],
   "source": [
    "N = [\"rushi\",\"shubham\"]\n",
    "N.extend(\"nitin\")\n"
   ]
  },
  {
   "cell_type": "code",
   "execution_count": 20,
   "id": "60642493",
   "metadata": {},
   "outputs": [
    {
     "name": "stdout",
     "output_type": "stream",
     "text": [
      "['rushi', 'shubham', 'n', 'i', 't', 'i', 'n', 'n', 'i', 't', 'i', 'n']\n"
     ]
    }
   ],
   "source": [
    " try:\n",
    "    N.extend(\"nitin\")\n",
    "    print(N)\n",
    "except Exception as e:\n",
    "    print(e)"
   ]
  },
  {
   "cell_type": "code",
   "execution_count": 21,
   "id": "f167aa88",
   "metadata": {},
   "outputs": [
    {
     "name": "stdout",
     "output_type": "stream",
     "text": [
      "['rushi', 'shubham', 'n', 'i', 't', 'i', 'n', 'n', 'i', 't', 'i', 'n', 'n', 'i', 't', 'i', 'n']\n"
     ]
    }
   ],
   "source": [
    "def extend_name(name):\n",
    "    \"Add the elements of a list to the end of the current list\"\n",
    "    try:\n",
    "        N.extend(\"nitin\")\n",
    "        print(N)\n",
    "    except Exception as e:\n",
    "        print(e)\n",
    "extend_name(N)"
   ]
  },
  {
   "cell_type": "code",
   "execution_count": 22,
   "id": "80df78f4",
   "metadata": {},
   "outputs": [
    {
     "name": "stdout",
     "output_type": "stream",
     "text": [
      "['rushi', 'shubham', 'n', 'i', 't', 'i', 'n', 'n', 'i', 't', 'i', 'n', 'n', 'i', 't', 'i', 'n', 'n', 'i', 't', 'i', 'n']\n"
     ]
    }
   ],
   "source": [
    "try:\n",
    "    def extend_name(name):\n",
    "        try:\n",
    "            N.extend(\"nitin\")\n",
    "            print(N)\n",
    "        except Exception as e:\n",
    "            print(e)\n",
    "    extend_name(N)\n",
    "except Exception as e:\n",
    "    print(e)"
   ]
  },
  {
   "cell_type": "raw",
   "id": "24f34d11",
   "metadata": {},
   "source": []
  },
  {
   "cell_type": "raw",
   "id": "b6f29cd3",
   "metadata": {},
   "source": [
    "#index()\n",
    "Find the index of the element "
   ]
  },
  {
   "cell_type": "code",
   "execution_count": 23,
   "id": "494cd1bf",
   "metadata": {},
   "outputs": [
    {
     "data": {
      "text/plain": [
       "2"
      ]
     },
     "execution_count": 23,
     "metadata": {},
     "output_type": "execute_result"
    }
   ],
   "source": [
    "l = [12,2,3,4,4,5,5,6,7,78777]\n",
    "l.index(3)"
   ]
  },
  {
   "cell_type": "code",
   "execution_count": 24,
   "id": "1821a134",
   "metadata": {},
   "outputs": [
    {
     "name": "stdout",
     "output_type": "stream",
     "text": [
      "2\n"
     ]
    }
   ],
   "source": [
    "try:\n",
    "    print(l.index(3))\n",
    "except Exception as e:\n",
    "    print(e)"
   ]
  },
  {
   "cell_type": "code",
   "execution_count": 25,
   "id": "3dff3ee5",
   "metadata": {},
   "outputs": [
    {
     "name": "stdout",
     "output_type": "stream",
     "text": [
      "2\n"
     ]
    }
   ],
   "source": [
    "def index_no(name):\n",
    "    \"Find the index\"\n",
    "    try:\n",
    "        print(l.index(3))\n",
    "    except Exception as e:\n",
    "        print(e)\n",
    "index_no(l)"
   ]
  },
  {
   "cell_type": "code",
   "execution_count": 26,
   "id": "12c37850",
   "metadata": {},
   "outputs": [
    {
     "name": "stdout",
     "output_type": "stream",
     "text": [
      "2\n"
     ]
    }
   ],
   "source": [
    "try:\n",
    "    def index_no(name):\n",
    "        try:\n",
    "            print(l.index(3))\n",
    "        except Exception as e:\n",
    "            print(e)\n",
    "    index_no(l)\n",
    "except Exception as e:\n",
    "    print(e)"
   ]
  },
  {
   "cell_type": "raw",
   "id": "88bf0acd",
   "metadata": {},
   "source": []
  },
  {
   "cell_type": "raw",
   "id": "b846e500",
   "metadata": {},
   "source": [
    "# insert()\n",
    "the element has to be inserted."
   ]
  },
  {
   "cell_type": "code",
   "execution_count": 27,
   "id": "6602b839",
   "metadata": {},
   "outputs": [
    {
     "name": "stdout",
     "output_type": "stream",
     "text": [
      "[1, 2, 3, 4, 10, 5, 6, 7]\n"
     ]
    }
   ],
   "source": [
    "s= [ 1, 2, 3, 4, 5, 6, 7 ]  \n",
    "s.insert(4, 10) \n",
    "print(s) "
   ]
  },
  {
   "cell_type": "code",
   "execution_count": 28,
   "id": "53d2f0da",
   "metadata": {},
   "outputs": [
    {
     "name": "stdout",
     "output_type": "stream",
     "text": [
      "[1, 2, 3, 4, 10, 10, 5, 6, 7]\n"
     ]
    }
   ],
   "source": [
    "try:\n",
    "    s.insert(4,10)\n",
    "    print(s)\n",
    "except exception as e:\n",
    "    print(e)"
   ]
  },
  {
   "cell_type": "code",
   "execution_count": 29,
   "id": "71fce0c8",
   "metadata": {},
   "outputs": [
    {
     "name": "stdout",
     "output_type": "stream",
     "text": [
      "[1, 2, 3, 4, 10, 10, 10, 5, 6, 7]\n"
     ]
    }
   ],
   "source": [
    "def insert_func(List):\n",
    "    \"element has to be inserted.\"\n",
    "    try:\n",
    "        s.insert(4,10)\n",
    "        print(s)\n",
    "    except exception as e:\n",
    "        print(e)\n",
    "insert_func(s) "
   ]
  },
  {
   "cell_type": "code",
   "execution_count": 30,
   "id": "c9aa5fcf",
   "metadata": {},
   "outputs": [
    {
     "name": "stdout",
     "output_type": "stream",
     "text": [
      "None\n"
     ]
    }
   ],
   "source": [
    "try:\n",
    "    def insert_func(List):\n",
    "        try:\n",
    "            print(s.insert(4,10))\n",
    "        except exception as e:\n",
    "            print(e)\n",
    "    insert_func(s)            \n",
    "except Exception as e:\n",
    "    print(e)"
   ]
  },
  {
   "cell_type": "raw",
   "id": "1243695c",
   "metadata": {},
   "source": [
    " "
   ]
  },
  {
   "cell_type": "raw",
   "id": "426eb3f7",
   "metadata": {},
   "source": [
    "#pop()\n",
    "Remove Last element"
   ]
  },
  {
   "cell_type": "code",
   "execution_count": 31,
   "id": "c4f557e0",
   "metadata": {},
   "outputs": [
    {
     "data": {
      "text/plain": [
       "999"
      ]
     },
     "execution_count": 31,
     "metadata": {},
     "output_type": "execute_result"
    }
   ],
   "source": [
    "R = [1,5,4,6,8,9,77,8,999]\n",
    "R.pop()"
   ]
  },
  {
   "cell_type": "code",
   "execution_count": 32,
   "id": "5c929bec",
   "metadata": {},
   "outputs": [
    {
     "name": "stdout",
     "output_type": "stream",
     "text": [
      "8\n"
     ]
    }
   ],
   "source": [
    "try:\n",
    "    print(R.pop())\n",
    "except Exception as e:\n",
    "    print(e)"
   ]
  },
  {
   "cell_type": "code",
   "execution_count": 33,
   "id": "099770ba",
   "metadata": {},
   "outputs": [
    {
     "name": "stdout",
     "output_type": "stream",
     "text": [
      "77\n"
     ]
    }
   ],
   "source": [
    "def remove(name):\n",
    "        try:\n",
    "            print(R.pop())\n",
    "        except Exception as e:\n",
    "            print(e)\n",
    "remove(R)"
   ]
  },
  {
   "cell_type": "code",
   "execution_count": 34,
   "id": "29741ea9",
   "metadata": {},
   "outputs": [
    {
     "name": "stdout",
     "output_type": "stream",
     "text": [
      "9\n"
     ]
    }
   ],
   "source": [
    "try:\n",
    "    def remove(name):\n",
    "        \"Remove Last element\"\n",
    "        try:\n",
    "            print(R.pop())\n",
    "        except Exception as e:\n",
    "            print(e)\n",
    "    remove(R)\n",
    "except Exception as e:\n",
    "    print(e)"
   ]
  },
  {
   "cell_type": "raw",
   "id": "96e51165",
   "metadata": {},
   "source": []
  },
  {
   "cell_type": "raw",
   "id": "2069045b",
   "metadata": {},
   "source": [
    "#remove() \n",
    "object to be removed from the list "
   ]
  },
  {
   "cell_type": "code",
   "execution_count": 35,
   "id": "bb5dde37",
   "metadata": {},
   "outputs": [
    {
     "data": {
      "text/plain": [
       "[9, 34, 5, 55]"
      ]
     },
     "execution_count": 35,
     "metadata": {},
     "output_type": "execute_result"
    }
   ],
   "source": [
    "d = [9,4,34,5,55]\n",
    "d.remove(4)\n",
    "d\n"
   ]
  },
  {
   "cell_type": "code",
   "execution_count": 36,
   "id": "3230c045",
   "metadata": {},
   "outputs": [
    {
     "name": "stdout",
     "output_type": "stream",
     "text": [
      "[9, 34, 55]\n"
     ]
    }
   ],
   "source": [
    "try:\n",
    "    d.remove(5)\n",
    "    print(d)\n",
    "except Exception as e:\n",
    "    print(e)"
   ]
  },
  {
   "cell_type": "code",
   "execution_count": 37,
   "id": "9ddb9ad9",
   "metadata": {},
   "outputs": [
    {
     "name": "stdout",
     "output_type": "stream",
     "text": [
      "[9, 34]\n"
     ]
    }
   ],
   "source": [
    "def remove_number(num):\n",
    "    \"object to be removed\"\n",
    "    try:\n",
    "        d.remove(55)\n",
    "        print(d)\n",
    "    except Exception as e:\n",
    "        print(e)\n",
    "remove_number(d)\n"
   ]
  },
  {
   "cell_type": "code",
   "execution_count": 38,
   "id": "5d2ce1d3",
   "metadata": {},
   "outputs": [
    {
     "name": "stdout",
     "output_type": "stream",
     "text": [
      "list.remove(x): x not in list\n"
     ]
    }
   ],
   "source": [
    "try:\n",
    "    def remove_number(num):\n",
    "        try:\n",
    "            d.remove(4)\n",
    "            print(d)\n",
    "        except Exception as e:\n",
    "            print(e)\n",
    "    remove_number(d)\n",
    "except Exception as e:\n",
    "    print(e)"
   ]
  },
  {
   "cell_type": "raw",
   "id": "7c5bc9aa",
   "metadata": {},
   "source": []
  },
  {
   "cell_type": "raw",
   "id": "cc65a141",
   "metadata": {},
   "source": [
    "#reverse()\n",
    "reverses the elements of the list."
   ]
  },
  {
   "cell_type": "code",
   "execution_count": 39,
   "id": "d75ec46f",
   "metadata": {},
   "outputs": [
    {
     "data": {
      "text/plain": [
       "[8, 7, 6, 5, 4, 3, 2, 1]"
      ]
     },
     "execution_count": 39,
     "metadata": {},
     "output_type": "execute_result"
    }
   ],
   "source": [
    "s=[1,2,3,4,5,6,7,8]\n",
    "s.reverse()\n",
    "s"
   ]
  },
  {
   "cell_type": "code",
   "execution_count": 40,
   "id": "c2d3692c",
   "metadata": {},
   "outputs": [
    {
     "name": "stdout",
     "output_type": "stream",
     "text": [
      "[1, 2, 3, 4, 5, 6, 7, 8]\n"
     ]
    }
   ],
   "source": [
    "try:\n",
    "    def reverse_list(name):\n",
    "        \"Reverse *IN PLACE*\"\n",
    "        try:\n",
    "            s.reverse()\n",
    "            print(s)\n",
    "        except Exception as e:\n",
    "            print(e)\n",
    "    reverse_list(s)\n",
    "except Exception as e:\n",
    "    print(e)"
   ]
  },
  {
   "cell_type": "raw",
   "id": "292c66c6",
   "metadata": {},
   "source": []
  },
  {
   "cell_type": "raw",
   "id": "b87df282",
   "metadata": {},
   "source": [
    "### sort()\n",
    "items of a list in ascending or descending order."
   ]
  },
  {
   "cell_type": "code",
   "execution_count": 41,
   "id": "8971cca4",
   "metadata": {},
   "outputs": [
    {
     "name": "stdout",
     "output_type": "stream",
     "text": [
      "['R', 'html', 'python', 'sql']\n"
     ]
    }
   ],
   "source": [
    "lang = [\"python\",\"sql\",\"R\",\"html\"]\n",
    "lang.sort()\n",
    "print(lang)"
   ]
  },
  {
   "cell_type": "code",
   "execution_count": 42,
   "id": "322419cf",
   "metadata": {},
   "outputs": [
    {
     "name": "stdout",
     "output_type": "stream",
     "text": [
      "['R', 'html', 'python', 'sql']\n"
     ]
    }
   ],
   "source": [
    "try:\n",
    "    lang.sort()\n",
    "    print(lang)\n",
    "except Exception as e:\n",
    "    print(e)"
   ]
  },
  {
   "cell_type": "code",
   "execution_count": 43,
   "id": "4ff4d351",
   "metadata": {},
   "outputs": [
    {
     "name": "stdout",
     "output_type": "stream",
     "text": [
      "['R', 'html', 'python', 'sql']\n"
     ]
    }
   ],
   "source": [
    "def sequence(name): \n",
    "    try:\n",
    "        lang.sort()\n",
    "        print(lang)\n",
    "    except Exception as e:\n",
    "        print(e)\n",
    "sequence(lang)"
   ]
  },
  {
   "cell_type": "code",
   "execution_count": 44,
   "id": "a9aef030",
   "metadata": {},
   "outputs": [
    {
     "name": "stdout",
     "output_type": "stream",
     "text": [
      "['R', 'html', 'python', 'sql']\n"
     ]
    }
   ],
   "source": [
    "try:\n",
    "    def sequence(name):\n",
    "        \"list in ascending order\"\n",
    "        try:\n",
    "            lang.sort()\n",
    "            print(lang)\n",
    "        except Exception as e:\n",
    "            print(e)\n",
    "    sequence(lang)        \n",
    "except Exception as e:\n",
    "    print(e)"
   ]
  }
 ],
 "metadata": {
  "kernelspec": {
   "display_name": "Python 3 (ipykernel)",
   "language": "python",
   "name": "python3"
  },
  "language_info": {
   "codemirror_mode": {
    "name": "ipython",
    "version": 3
   },
   "file_extension": ".py",
   "mimetype": "text/x-python",
   "name": "python",
   "nbconvert_exporter": "python",
   "pygments_lexer": "ipython3",
   "version": "3.9.12"
  }
 },
 "nbformat": 4,
 "nbformat_minor": 5
}
